{
 "cells": [
  {
   "cell_type": "raw",
   "id": "58e7ebe7-3d7b-4ccb-8593-29d8cc25d13b",
   "metadata": {},
   "source": [
    "DAY 1 - PYTHON INTRODUCTION AND VARIABLES"
   ]
  },
  {
   "cell_type": "raw",
   "id": "4fdcce02-f6b9-4532-beca-60fd8e44f728",
   "metadata": {},
   "source": [
    "What is Python?\n",
    "Python is a popular programming language. created by Guido van Rossum in 1991."
   ]
  },
  {
   "cell_type": "raw",
   "id": "837d665e-d050-4cdb-b219-21d762324886",
   "metadata": {},
   "source": [
    "It is used to develop:\n",
    "1.web development (server-side)\n",
    "2.software development\n",
    "3.Machine Learning Models\n",
    "4.Artificial Intelligence"
   ]
  },
  {
   "cell_type": "raw",
   "id": "42bd45fa-ee12-422d-b404-a6ec26aac169",
   "metadata": {},
   "source": [
    "*****************************************************************************************************************************************************"
   ]
  },
  {
   "cell_type": "raw",
   "id": "9a463ac6-f5e6-4ae5-a4ad-20ce30bec183",
   "metadata": {},
   "source": [
    "PYTHON INSTALLATION along with jupyter notebook : Checkout previous video, Link in description"
   ]
  },
  {
   "cell_type": "raw",
   "id": "c3de71b0-4979-4c7e-a247-71615d1a07f1",
   "metadata": {},
   "source": [
    "LET'S Write our first code in python"
   ]
  },
  {
   "cell_type": "code",
   "execution_count": 22,
   "id": "9b080300-6e84-4e86-982e-418a27ce2377",
   "metadata": {},
   "outputs": [
    {
     "name": "stdout",
     "output_type": "stream",
     "text": [
      "Hello veiwers\n"
     ]
    }
   ],
   "source": [
    "print(\"Hello veiwers\")"
   ]
  },
  {
   "cell_type": "code",
   "execution_count": 25,
   "id": "00fb0d94-151d-43ee-bc80-e0eec5f27969",
   "metadata": {},
   "outputs": [
    {
     "name": "stdout",
     "output_type": "stream",
     "text": [
      "hey!\n"
     ]
    }
   ],
   "source": [
    "print(\"hey!\")"
   ]
  },
  {
   "cell_type": "raw",
   "id": "d48a689b-5324-4737-8324-a65ed8cfb490",
   "metadata": {},
   "source": [
    "VARIABLES"
   ]
  },
  {
   "cell_type": "raw",
   "id": "9a4b157b-dafc-47f5-8157-15d4eaa44297",
   "metadata": {},
   "source": [
    "Variables are containers for storing data values."
   ]
  },
  {
   "cell_type": "code",
   "execution_count": 2,
   "id": "e532c001-3fe1-4162-9bf1-83da49ac0dde",
   "metadata": {},
   "outputs": [
    {
     "name": "stdout",
     "output_type": "stream",
     "text": [
      "5\n",
      "John\n"
     ]
    }
   ],
   "source": [
    "phone_number = 1234567890\n",
    "name = \"prasanna\"\n",
    "print(phone_number)\n",
    "print(name)"
   ]
  },
  {
   "cell_type": "raw",
   "id": "82d5a699-dd2a-4581-a82a-939b3aad730e",
   "metadata": {},
   "source": [
    "Get the TYPE"
   ]
  },
  {
   "cell_type": "code",
   "execution_count": 23,
   "id": "c5a00cfd-9834-4f4c-84d3-3eb5f684f916",
   "metadata": {},
   "outputs": [
    {
     "name": "stdout",
     "output_type": "stream",
     "text": [
      "<class 'int'>\n",
      "<class 'str'>\n"
     ]
    }
   ],
   "source": [
    "phone_number = 1234567890\n",
    "name = \"prasanna\"\n",
    "print(type(phone_number))\n",
    "print(type(name))"
   ]
  },
  {
   "cell_type": "code",
   "execution_count": 6,
   "id": "efabbd41-514d-43b9-8184-7c990ba01b2a",
   "metadata": {},
   "outputs": [],
   "source": [
    "x = \"prasanna\"\n",
    "# is the same as\n",
    "x = 'prasanna'"
   ]
  },
  {
   "cell_type": "code",
   "execution_count": 7,
   "id": "0aa05eda-0568-4cd9-8516-84087e1d9ccb",
   "metadata": {},
   "outputs": [],
   "source": [
    "a = 7\n",
    "A = \"prasanna\"\n",
    "#A will not overwrite a"
   ]
  },
  {
   "cell_type": "raw",
   "id": "23f64da6-88ec-4791-9406-19da9585cf28",
   "metadata": {},
   "source": [
    "*****************************************************************************************************************************************************"
   ]
  },
  {
   "cell_type": "raw",
   "id": "494438fd-6ce3-4e73-9382-631aaa5b52ad",
   "metadata": {},
   "source": [
    "Variable Naming in Python:\n",
    "\n",
    "Variables can have short names like a or b, or more descriptive names such as name, age,last_name\n",
    "Rules for Python Variables:\n",
    "\n",
    "A variable name must begin with a letter or the underscore character.\n",
    "It cannot start with a number.\n",
    "Only alpha-numeric characters and underscores (A-z, 0-9, and _ ) are allowed in variable names.\n",
    "Variable names are case-sensitive; for instance, age, Age, and AGE are considered different variables."
   ]
  },
  {
   "cell_type": "code",
   "execution_count": 8,
   "id": "79057efb-4673-400f-b2c1-d4c907b93efa",
   "metadata": {},
   "outputs": [],
   "source": [
    "#correct way\n",
    "varname = \"John\"\n",
    "var_name = \"John\"\n",
    "_var_name = \"John\"\n",
    "varName = \"John\"\n",
    "VARNAME = \"John\"\n",
    "varname1 = \"John\""
   ]
  },
  {
   "cell_type": "code",
   "execution_count": 10,
   "id": "76174dc7-8141-474f-8824-5922085b1566",
   "metadata": {},
   "outputs": [],
   "source": [
    "#Incorrect way\n",
    "2myvar = \"John\"\n",
    "my-var = \"John\"\n",
    "my var = \"John\""
   ]
  },
  {
   "cell_type": "code",
   "execution_count": 11,
   "id": "63f1e5ad-595c-4af3-989a-76f2e39e8e20",
   "metadata": {},
   "outputs": [
    {
     "name": "stdout",
     "output_type": "stream",
     "text": [
      "Orange\n",
      "Banana\n",
      "Cherry\n"
     ]
    }
   ],
   "source": [
    "#Assigning multiple values\n",
    "x, y, z = \"Orange\", \"Banana\", \"Cherry\"\n",
    "print(x)\n",
    "print(y)\n",
    "print(z)"
   ]
  },
  {
   "cell_type": "code",
   "execution_count": 13,
   "id": "ef9e6828-90e3-46e8-86fb-13d80ca2c99d",
   "metadata": {},
   "outputs": [
    {
     "name": "stdout",
     "output_type": "stream",
     "text": [
      "Orange\n",
      "Orange\n",
      "Orange\n"
     ]
    }
   ],
   "source": [
    "# One value to multiple variables\n",
    "x = y = z = \"Orange\"\n",
    "print(x)\n",
    "print(y)\n",
    "print(z)"
   ]
  },
  {
   "cell_type": "code",
   "execution_count": 15,
   "id": "cb8bae01-1933-4f2e-a957-3c2182e5d8bc",
   "metadata": {},
   "outputs": [
    {
     "name": "stdout",
     "output_type": "stream",
     "text": [
      "Python is awesome\n"
     ]
    }
   ],
   "source": [
    "# Output varaible\n",
    "x = \"Python\"\n",
    "y = \"is\"\n",
    "z = \"awesome\"\n",
    "print(x, y, z)"
   ]
  },
  {
   "cell_type": "code",
   "execution_count": 16,
   "id": "cbebe0a0-bc57-4db9-9eaf-6d42eb4bca0b",
   "metadata": {},
   "outputs": [
    {
     "name": "stdout",
     "output_type": "stream",
     "text": [
      "Python is awesome\n"
     ]
    }
   ],
   "source": [
    "x = \"Python \"\n",
    "y = \"is \"\n",
    "z = \"awesome\"\n",
    "print(x + y + z)"
   ]
  },
  {
   "cell_type": "code",
   "execution_count": 17,
   "id": "a54e15d8-0f6e-4691-b515-1298d59c0c0f",
   "metadata": {},
   "outputs": [
    {
     "name": "stdout",
     "output_type": "stream",
     "text": [
      "15\n"
     ]
    }
   ],
   "source": [
    "x = 5\n",
    "y = 10\n",
    "print(x + y)"
   ]
  },
  {
   "cell_type": "code",
   "execution_count": 20,
   "id": "670de1f6-4b06-4d3f-9322-3a8c146bac8b",
   "metadata": {},
   "outputs": [],
   "source": [
    "x = 5\n",
    "y = \"John\"\n",
    "print(x + y)"
   ]
  },
  {
   "cell_type": "code",
   "execution_count": 19,
   "id": "e690b291-e7e1-45cd-bfb5-96fa1ca7ee1d",
   "metadata": {},
   "outputs": [
    {
     "name": "stdout",
     "output_type": "stream",
     "text": [
      "5 John\n"
     ]
    }
   ],
   "source": [
    "x = 5\n",
    "y = \"John\"\n",
    "print(x, y)"
   ]
  },
  {
   "cell_type": "code",
   "execution_count": null,
   "id": "cbcc42d0-b49f-4c05-b517-f0ae72cc1f17",
   "metadata": {},
   "outputs": [],
   "source": []
  },
  {
   "cell_type": "code",
   "execution_count": null,
   "id": "fb5c5d14-b664-42ee-a020-7892a6ad7fd2",
   "metadata": {},
   "outputs": [],
   "source": []
  },
  {
   "cell_type": "code",
   "execution_count": null,
   "id": "dfad4b62-ccb6-478f-a981-6654d8a4bf61",
   "metadata": {},
   "outputs": [],
   "source": [
    "**********************UpComing video DAY 1 -Python Data Types**********************************"
   ]
  }
 ],
 "metadata": {
  "kernelspec": {
   "display_name": "Python 3 (ipykernel)",
   "language": "python",
   "name": "python3"
  },
  "language_info": {
   "codemirror_mode": {
    "name": "ipython",
    "version": 3
   },
   "file_extension": ".py",
   "mimetype": "text/x-python",
   "name": "python",
   "nbconvert_exporter": "python",
   "pygments_lexer": "ipython3",
   "version": "3.12.0"
  }
 },
 "nbformat": 4,
 "nbformat_minor": 5
}
