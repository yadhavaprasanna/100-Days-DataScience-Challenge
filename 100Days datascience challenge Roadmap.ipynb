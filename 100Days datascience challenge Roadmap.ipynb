{
 "cells": [
  {
   "cell_type": "markdown",
   "metadata": {},
   "source": [
    "HOW TO START AND LEARN DATA SCIENCE IN 100 DAYS"
   ]
  },
  {
   "cell_type": "markdown",
   "metadata": {},
   "source": [
    "100 DAYS ROADMAP TO DATA SCIENCE"
   ]
  },
  {
   "cell_type": "code",
   "execution_count": 7,
   "metadata": {},
   "outputs": [
    {
     "data": {
      "text/html": [
       "<img src=\"DataStructure_roadmap.png\" height=\"450\"/>"
      ],
      "text/plain": [
       "<IPython.core.display.Image object>"
      ]
     },
     "execution_count": 7,
     "metadata": {},
     "output_type": "execute_result"
    }
   ],
   "source": []
  },
  {
   "cell_type": "markdown",
   "metadata": {},
   "source": [
    "DAY 0 - DIFFERENCE BETWEEN AI VS ML VS DL VS DS"
   ]
  },
  {
   "cell_type": "markdown",
   "metadata": {},
   "source": [
    "1.VARIABLES\n",
    "2.DATATYPES\n",
    "3.OPERATORS\n",
    "4.LIST\n",
    "5.TUPLES\n",
    "6.SETS\n",
    "7.DICTIONARIES\n",
    "8.IF ELSE\n",
    "9.FOR LOOP\n",
    "10.WHILE LOOP\n",
    "11.FUNCTION\n",
    "12.CLASSES/OBJECTS\n",
    "13.INHERITANCE\n",
    "14.TRY EXCEPT\n",
    "15.MATH\n",
    "16.REGEX\n",
    "17.DATES"
   ]
  },
  {
   "cell_type": "markdown",
   "metadata": {},
   "source": [
    "DAY 1 TO 20 - PYTHON PROGRAMMING"
   ]
  },
  {
   "cell_type": "markdown",
   "metadata": {},
   "source": [
    "DAY 21 TO 30 -PANDAS, NUMPY , MATPLOTLIB"
   ]
  },
  {
   "cell_type": "markdown",
   "metadata": {},
   "source": [
    "DAY 31 TO 45 - STATISTICS & PROBABILITY"
   ]
  },
  {
   "cell_type": "markdown",
   "metadata": {},
   "source": [
    "DAY 45 TO 65 - MACHINE LEARNING"
   ]
  },
  {
   "cell_type": "markdown",
   "metadata": {},
   "source": [
    "DAY 66 TO 75 - DEEP LEARNING"
   ]
  },
  {
   "cell_type": "markdown",
   "metadata": {},
   "source": [
    "DAY 76 to 90 - NATURAL LANGUAGE PROCESSING"
   ]
  },
  {
   "cell_type": "markdown",
   "metadata": {},
   "source": [
    "DAY 90 TO 98 - GENERATIVE AI"
   ]
  },
  {
   "cell_type": "markdown",
   "metadata": {},
   "source": [
    "DAY 99 - WRAP UP"
   ]
  },
  {
   "cell_type": "markdown",
   "metadata": {},
   "source": [
    "DAY 100 - RESUME TEMPLATE AND PLACEMENT TALK"
   ]
  },
  {
   "cell_type": "markdown",
   "metadata": {},
   "source": [
    "🚀RoadMap To Master Data Science in 100 Days with PYTHON || First Playlist in Tamil || Daily 15 Mins📊"
   ]
  }
 ],
 "metadata": {
  "kernelspec": {
   "display_name": "Python 3",
   "language": "python",
   "name": "python3"
  },
  "language_info": {
   "codemirror_mode": {
    "name": "ipython",
    "version": 3
   },
   "file_extension": ".py",
   "mimetype": "text/x-python",
   "name": "python",
   "nbconvert_exporter": "python",
   "pygments_lexer": "ipython3",
   "version": "3.12.0"
  }
 },
 "nbformat": 4,
 "nbformat_minor": 2
}
